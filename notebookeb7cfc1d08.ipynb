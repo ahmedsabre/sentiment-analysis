{
 "cells": [
  {
   "cell_type": "code",
   "execution_count": 1,
   "id": "7dcad995",
   "metadata": {
    "_cell_guid": "b1076dfc-b9ad-4769-8c92-a6c4dae69d19",
    "_uuid": "8f2839f25d086af736a60e9eeb907d3b93b6e0e5",
    "execution": {
     "iopub.execute_input": "2023-03-07T10:31:17.229778Z",
     "iopub.status.busy": "2023-03-07T10:31:17.228752Z",
     "iopub.status.idle": "2023-03-07T10:31:17.250783Z",
     "shell.execute_reply": "2023-03-07T10:31:17.249399Z"
    },
    "papermill": {
     "duration": 0.036188,
     "end_time": "2023-03-07T10:31:17.253662",
     "exception": false,
     "start_time": "2023-03-07T10:31:17.217474",
     "status": "completed"
    },
    "tags": []
   },
   "outputs": [
    {
     "name": "stdout",
     "output_type": "stream",
     "text": [
      "/kaggle/input/amazonreviews/amazonreviews.tsv\n"
     ]
    }
   ],
   "source": [
    "# This Python 3 environment comes with many helpful analytics libraries installed\n",
    "# It is defined by the kaggle/python Docker image: https://github.com/kaggle/docker-python\n",
    "# For example, here's several helpful packages to load\n",
    "\n",
    "import numpy as np # linear algebra\n",
    "import pandas as pd # data processing, CSV file I/O (e.g. pd.read_csv)\n",
    "\n",
    "# Input data files are available in the read-only \"../input/\" directory\n",
    "# For example, running this (by clicking run or pressing Shift+Enter) will list all files under the input directory\n",
    "\n",
    "import os\n",
    "for dirname, _, filenames in os.walk('/kaggle/input'):\n",
    "    for filename in filenames:\n",
    "        print(os.path.join(dirname, filename))\n",
    "\n",
    "# You can write up to 20GB to the current directory (/kaggle/working/) that gets preserved as output when you create a version using \"Save & Run All\" \n",
    "# You can also write temporary files to /kaggle/temp/, but they won't be saved outside of the current session"
   ]
  },
  {
   "cell_type": "markdown",
   "id": "37dff6ce",
   "metadata": {
    "papermill": {
     "duration": 0.00762,
     "end_time": "2023-03-07T10:31:17.269772",
     "exception": false,
     "start_time": "2023-03-07T10:31:17.262152",
     "status": "completed"
    },
    "tags": []
   },
   "source": [
    "# amazon reviews analysis by VADER"
   ]
  },
  {
   "cell_type": "code",
   "execution_count": 2,
   "id": "acebe1a1",
   "metadata": {
    "execution": {
     "iopub.execute_input": "2023-03-07T10:31:17.287373Z",
     "iopub.status.busy": "2023-03-07T10:31:17.286938Z",
     "iopub.status.idle": "2023-03-07T10:31:19.071468Z",
     "shell.execute_reply": "2023-03-07T10:31:19.069581Z"
    },
    "papermill": {
     "duration": 1.797404,
     "end_time": "2023-03-07T10:31:19.075048",
     "exception": false,
     "start_time": "2023-03-07T10:31:17.277644",
     "status": "completed"
    },
    "tags": []
   },
   "outputs": [
    {
     "name": "stdout",
     "output_type": "stream",
     "text": [
      "[nltk_data] Downloading package vader_lexicon to\n",
      "[nltk_data]     /usr/share/nltk_data...\n",
      "[nltk_data]   Package vader_lexicon is already up-to-date!\n"
     ]
    },
    {
     "data": {
      "text/plain": [
       "True"
      ]
     },
     "execution_count": 2,
     "metadata": {},
     "output_type": "execute_result"
    }
   ],
   "source": [
    "import pandas as pd\n",
    "import numpy as np\n",
    "import nltk\n",
    "nltk.download('vader_lexicon')"
   ]
  },
  {
   "cell_type": "code",
   "execution_count": 3,
   "id": "8607cc2c",
   "metadata": {
    "execution": {
     "iopub.execute_input": "2023-03-07T10:31:19.093144Z",
     "iopub.status.busy": "2023-03-07T10:31:19.092722Z",
     "iopub.status.idle": "2023-03-07T10:31:19.125871Z",
     "shell.execute_reply": "2023-03-07T10:31:19.124501Z"
    },
    "papermill": {
     "duration": 0.045277,
     "end_time": "2023-03-07T10:31:19.128544",
     "exception": false,
     "start_time": "2023-03-07T10:31:19.083267",
     "status": "completed"
    },
    "tags": []
   },
   "outputs": [
    {
     "name": "stderr",
     "output_type": "stream",
     "text": [
      "/opt/conda/lib/python3.7/site-packages/nltk/twitter/__init__.py:20: UserWarning: The twython library has not been installed. Some functionality from the twitter package will not be available.\n",
      "  warnings.warn(\"The twython library has not been installed. \"\n"
     ]
    }
   ],
   "source": [
    "from nltk.sentiment.vader import SentimentIntensityAnalyzer\n",
    "sid=SentimentIntensityAnalyzer()"
   ]
  },
  {
   "cell_type": "code",
   "execution_count": 4,
   "id": "4075789e",
   "metadata": {
    "execution": {
     "iopub.execute_input": "2023-03-07T10:31:19.146574Z",
     "iopub.status.busy": "2023-03-07T10:31:19.146136Z",
     "iopub.status.idle": "2023-03-07T10:31:19.340566Z",
     "shell.execute_reply": "2023-03-07T10:31:19.339240Z"
    },
    "papermill": {
     "duration": 0.206293,
     "end_time": "2023-03-07T10:31:19.343115",
     "exception": false,
     "start_time": "2023-03-07T10:31:19.136822",
     "status": "completed"
    },
    "tags": []
   },
   "outputs": [
    {
     "data": {
      "text/html": [
       "<div>\n",
       "<style scoped>\n",
       "    .dataframe tbody tr th:only-of-type {\n",
       "        vertical-align: middle;\n",
       "    }\n",
       "\n",
       "    .dataframe tbody tr th {\n",
       "        vertical-align: top;\n",
       "    }\n",
       "\n",
       "    .dataframe thead th {\n",
       "        text-align: right;\n",
       "    }\n",
       "</style>\n",
       "<table border=\"1\" class=\"dataframe\">\n",
       "  <thead>\n",
       "    <tr style=\"text-align: right;\">\n",
       "      <th></th>\n",
       "      <th>label</th>\n",
       "      <th>review</th>\n",
       "    </tr>\n",
       "  </thead>\n",
       "  <tbody>\n",
       "    <tr>\n",
       "      <th>0</th>\n",
       "      <td>pos</td>\n",
       "      <td>Stuning even for the non-gamer: This sound tra...</td>\n",
       "    </tr>\n",
       "    <tr>\n",
       "      <th>1</th>\n",
       "      <td>pos</td>\n",
       "      <td>The best soundtrack ever to anything.: I'm rea...</td>\n",
       "    </tr>\n",
       "    <tr>\n",
       "      <th>2</th>\n",
       "      <td>pos</td>\n",
       "      <td>Amazing!: This soundtrack is my favorite music...</td>\n",
       "    </tr>\n",
       "    <tr>\n",
       "      <th>3</th>\n",
       "      <td>pos</td>\n",
       "      <td>Excellent Soundtrack: I truly like this soundt...</td>\n",
       "    </tr>\n",
       "    <tr>\n",
       "      <th>4</th>\n",
       "      <td>pos</td>\n",
       "      <td>Remember, Pull Your Jaw Off The Floor After He...</td>\n",
       "    </tr>\n",
       "  </tbody>\n",
       "</table>\n",
       "</div>"
      ],
      "text/plain": [
       "  label                                             review\n",
       "0   pos  Stuning even for the non-gamer: This sound tra...\n",
       "1   pos  The best soundtrack ever to anything.: I'm rea...\n",
       "2   pos  Amazing!: This soundtrack is my favorite music...\n",
       "3   pos  Excellent Soundtrack: I truly like this soundt...\n",
       "4   pos  Remember, Pull Your Jaw Off The Floor After He..."
      ]
     },
     "execution_count": 4,
     "metadata": {},
     "output_type": "execute_result"
    }
   ],
   "source": [
    "df=pd.read_csv('/kaggle/input/amazonreviews/amazonreviews.tsv',sep='\\t')\n",
    "df.head()"
   ]
  },
  {
   "cell_type": "markdown",
   "id": "b289b584",
   "metadata": {
    "papermill": {
     "duration": 0.008052,
     "end_time": "2023-03-07T10:31:19.359987",
     "exception": false,
     "start_time": "2023-03-07T10:31:19.351935",
     "status": "completed"
    },
    "tags": []
   },
   "source": [
    "# see if the data are balance or not"
   ]
  },
  {
   "cell_type": "code",
   "execution_count": 5,
   "id": "01b45dc8",
   "metadata": {
    "execution": {
     "iopub.execute_input": "2023-03-07T10:31:19.379261Z",
     "iopub.status.busy": "2023-03-07T10:31:19.378163Z",
     "iopub.status.idle": "2023-03-07T10:31:19.392839Z",
     "shell.execute_reply": "2023-03-07T10:31:19.391538Z"
    },
    "papermill": {
     "duration": 0.027406,
     "end_time": "2023-03-07T10:31:19.395946",
     "exception": false,
     "start_time": "2023-03-07T10:31:19.368540",
     "status": "completed"
    },
    "tags": []
   },
   "outputs": [
    {
     "data": {
      "text/plain": [
       "neg    5097\n",
       "pos    4903\n",
       "Name: label, dtype: int64"
      ]
     },
     "execution_count": 5,
     "metadata": {},
     "output_type": "execute_result"
    }
   ],
   "source": [
    "df['label'].value_counts()"
   ]
  },
  {
   "cell_type": "markdown",
   "id": "91059107",
   "metadata": {
    "papermill": {
     "duration": 0.008712,
     "end_time": "2023-03-07T10:31:19.414498",
     "exception": false,
     "start_time": "2023-03-07T10:31:19.405786",
     "status": "completed"
    },
    "tags": []
   },
   "source": [
    "# preprocessing the data"
   ]
  },
  {
   "cell_type": "code",
   "execution_count": 6,
   "id": "1c6661ed",
   "metadata": {
    "execution": {
     "iopub.execute_input": "2023-03-07T10:31:19.434602Z",
     "iopub.status.busy": "2023-03-07T10:31:19.433367Z",
     "iopub.status.idle": "2023-03-07T10:31:19.444684Z",
     "shell.execute_reply": "2023-03-07T10:31:19.443728Z"
    },
    "papermill": {
     "duration": 0.023637,
     "end_time": "2023-03-07T10:31:19.447181",
     "exception": false,
     "start_time": "2023-03-07T10:31:19.423544",
     "status": "completed"
    },
    "tags": []
   },
   "outputs": [
    {
     "data": {
      "text/plain": [
       "label     0\n",
       "review    0\n",
       "dtype: int64"
      ]
     },
     "execution_count": 6,
     "metadata": {},
     "output_type": "execute_result"
    }
   ],
   "source": [
    "df.isna().sum()"
   ]
  },
  {
   "cell_type": "markdown",
   "id": "962da7fd",
   "metadata": {
    "papermill": {
     "duration": 0.009919,
     "end_time": "2023-03-07T10:31:19.465982",
     "exception": false,
     "start_time": "2023-03-07T10:31:19.456063",
     "status": "completed"
    },
    "tags": []
   },
   "source": [
    "# see if we have empty space values"
   ]
  },
  {
   "cell_type": "code",
   "execution_count": 7,
   "id": "92a8a970",
   "metadata": {
    "execution": {
     "iopub.execute_input": "2023-03-07T10:31:19.488000Z",
     "iopub.status.busy": "2023-03-07T10:31:19.486929Z",
     "iopub.status.idle": "2023-03-07T10:31:19.509313Z",
     "shell.execute_reply": "2023-03-07T10:31:19.508348Z"
    },
    "papermill": {
     "duration": 0.037698,
     "end_time": "2023-03-07T10:31:19.512822",
     "exception": false,
     "start_time": "2023-03-07T10:31:19.475124",
     "status": "completed"
    },
    "tags": []
   },
   "outputs": [
    {
     "data": {
      "text/plain": [
       "[]"
      ]
     },
     "execution_count": 7,
     "metadata": {},
     "output_type": "execute_result"
    }
   ],
   "source": [
    "blanks=[]\n",
    "for i,lb,rv in df.itertuples():\n",
    "    #(index,label,review)\n",
    "    if type(rv)==str:\n",
    "        if rv.isspace():\n",
    "            blanks.append[i]\n",
    "blanks            "
   ]
  },
  {
   "cell_type": "markdown",
   "id": "eb6b5312",
   "metadata": {
    "papermill": {
     "duration": 0.008871,
     "end_time": "2023-03-07T10:31:19.530604",
     "exception": false,
     "start_time": "2023-03-07T10:31:19.521733",
     "status": "completed"
    },
    "tags": []
   },
   "source": [
    "there is no space values\n",
    "if we have we drop them by(df.drop(blanks,inplace=True)"
   ]
  },
  {
   "cell_type": "markdown",
   "id": "462e81e6",
   "metadata": {
    "papermill": {
     "duration": 0.009063,
     "end_time": "2023-03-07T10:31:19.548983",
     "exception": false,
     "start_time": "2023-03-07T10:31:19.539920",
     "status": "completed"
    },
    "tags": []
   },
   "source": [
    "# check the polarity score"
   ]
  },
  {
   "cell_type": "code",
   "execution_count": 8,
   "id": "b64b2888",
   "metadata": {
    "execution": {
     "iopub.execute_input": "2023-03-07T10:31:19.569147Z",
     "iopub.status.busy": "2023-03-07T10:31:19.568205Z",
     "iopub.status.idle": "2023-03-07T10:31:19.576575Z",
     "shell.execute_reply": "2023-03-07T10:31:19.574965Z"
    },
    "papermill": {
     "duration": 0.021505,
     "end_time": "2023-03-07T10:31:19.579634",
     "exception": false,
     "start_time": "2023-03-07T10:31:19.558129",
     "status": "completed"
    },
    "tags": []
   },
   "outputs": [
    {
     "data": {
      "text/plain": [
       "'Stuning even for the non-gamer: This sound track was beautiful! It paints the senery in your mind so well I would recomend it even to people who hate vid. game music! I have played the game Chrono Cross but out of all of the games I have ever played it has the best music! It backs away from crude keyboarding and takes a fresher step with grate guitars and soulful orchestras. It would impress anyone who cares to listen! ^_^'"
      ]
     },
     "execution_count": 8,
     "metadata": {},
     "output_type": "execute_result"
    }
   ],
   "source": [
    "df.iloc[0]['review']"
   ]
  },
  {
   "cell_type": "code",
   "execution_count": 9,
   "id": "8e0ac331",
   "metadata": {
    "execution": {
     "iopub.execute_input": "2023-03-07T10:31:19.601189Z",
     "iopub.status.busy": "2023-03-07T10:31:19.600130Z",
     "iopub.status.idle": "2023-03-07T10:31:19.611729Z",
     "shell.execute_reply": "2023-03-07T10:31:19.610224Z"
    },
    "papermill": {
     "duration": 0.025681,
     "end_time": "2023-03-07T10:31:19.614384",
     "exception": false,
     "start_time": "2023-03-07T10:31:19.588703",
     "status": "completed"
    },
    "tags": []
   },
   "outputs": [
    {
     "data": {
      "text/plain": [
       "{'neg': 0.088, 'neu': 0.669, 'pos': 0.243, 'compound': 0.9454}"
      ]
     },
     "execution_count": 9,
     "metadata": {},
     "output_type": "execute_result"
    }
   ],
   "source": [
    "sid.polarity_scores(df.iloc[0]['review'])"
   ]
  },
  {
   "cell_type": "markdown",
   "id": "7b7ea36f",
   "metadata": {
    "papermill": {
     "duration": 0.009487,
     "end_time": "2023-03-07T10:31:19.634102",
     "exception": false,
     "start_time": "2023-03-07T10:31:19.624615",
     "status": "completed"
    },
    "tags": []
   },
   "source": [
    "as we see the compound score is positive"
   ]
  },
  {
   "cell_type": "markdown",
   "id": "ed0bbe35",
   "metadata": {
    "papermill": {
     "duration": 0.009346,
     "end_time": "2023-03-07T10:31:19.652526",
     "exception": false,
     "start_time": "2023-03-07T10:31:19.643180",
     "status": "completed"
    },
    "tags": []
   },
   "source": [
    "# add scores label to the data"
   ]
  },
  {
   "cell_type": "code",
   "execution_count": 10,
   "id": "37247758",
   "metadata": {
    "execution": {
     "iopub.execute_input": "2023-03-07T10:31:19.672804Z",
     "iopub.status.busy": "2023-03-07T10:31:19.672403Z",
     "iopub.status.idle": "2023-03-07T10:31:30.736810Z",
     "shell.execute_reply": "2023-03-07T10:31:30.735555Z"
    },
    "papermill": {
     "duration": 11.078072,
     "end_time": "2023-03-07T10:31:30.739833",
     "exception": false,
     "start_time": "2023-03-07T10:31:19.661761",
     "status": "completed"
    },
    "tags": []
   },
   "outputs": [],
   "source": [
    "df['scores']=df['review'].apply(lambda review:sid.polarity_scores(review))"
   ]
  },
  {
   "cell_type": "code",
   "execution_count": 11,
   "id": "3f4a3f34",
   "metadata": {
    "execution": {
     "iopub.execute_input": "2023-03-07T10:31:30.759760Z",
     "iopub.status.busy": "2023-03-07T10:31:30.758812Z",
     "iopub.status.idle": "2023-03-07T10:31:30.773631Z",
     "shell.execute_reply": "2023-03-07T10:31:30.772358Z"
    },
    "papermill": {
     "duration": 0.027954,
     "end_time": "2023-03-07T10:31:30.776595",
     "exception": false,
     "start_time": "2023-03-07T10:31:30.748641",
     "status": "completed"
    },
    "tags": []
   },
   "outputs": [
    {
     "data": {
      "text/html": [
       "<div>\n",
       "<style scoped>\n",
       "    .dataframe tbody tr th:only-of-type {\n",
       "        vertical-align: middle;\n",
       "    }\n",
       "\n",
       "    .dataframe tbody tr th {\n",
       "        vertical-align: top;\n",
       "    }\n",
       "\n",
       "    .dataframe thead th {\n",
       "        text-align: right;\n",
       "    }\n",
       "</style>\n",
       "<table border=\"1\" class=\"dataframe\">\n",
       "  <thead>\n",
       "    <tr style=\"text-align: right;\">\n",
       "      <th></th>\n",
       "      <th>label</th>\n",
       "      <th>review</th>\n",
       "      <th>scores</th>\n",
       "    </tr>\n",
       "  </thead>\n",
       "  <tbody>\n",
       "    <tr>\n",
       "      <th>0</th>\n",
       "      <td>pos</td>\n",
       "      <td>Stuning even for the non-gamer: This sound tra...</td>\n",
       "      <td>{'neg': 0.088, 'neu': 0.669, 'pos': 0.243, 'co...</td>\n",
       "    </tr>\n",
       "    <tr>\n",
       "      <th>1</th>\n",
       "      <td>pos</td>\n",
       "      <td>The best soundtrack ever to anything.: I'm rea...</td>\n",
       "      <td>{'neg': 0.018, 'neu': 0.837, 'pos': 0.145, 'co...</td>\n",
       "    </tr>\n",
       "    <tr>\n",
       "      <th>2</th>\n",
       "      <td>pos</td>\n",
       "      <td>Amazing!: This soundtrack is my favorite music...</td>\n",
       "      <td>{'neg': 0.04, 'neu': 0.692, 'pos': 0.268, 'com...</td>\n",
       "    </tr>\n",
       "    <tr>\n",
       "      <th>3</th>\n",
       "      <td>pos</td>\n",
       "      <td>Excellent Soundtrack: I truly like this soundt...</td>\n",
       "      <td>{'neg': 0.09, 'neu': 0.615, 'pos': 0.295, 'com...</td>\n",
       "    </tr>\n",
       "    <tr>\n",
       "      <th>4</th>\n",
       "      <td>pos</td>\n",
       "      <td>Remember, Pull Your Jaw Off The Floor After He...</td>\n",
       "      <td>{'neg': 0.0, 'neu': 0.746, 'pos': 0.254, 'comp...</td>\n",
       "    </tr>\n",
       "  </tbody>\n",
       "</table>\n",
       "</div>"
      ],
      "text/plain": [
       "  label                                             review  \\\n",
       "0   pos  Stuning even for the non-gamer: This sound tra...   \n",
       "1   pos  The best soundtrack ever to anything.: I'm rea...   \n",
       "2   pos  Amazing!: This soundtrack is my favorite music...   \n",
       "3   pos  Excellent Soundtrack: I truly like this soundt...   \n",
       "4   pos  Remember, Pull Your Jaw Off The Floor After He...   \n",
       "\n",
       "                                              scores  \n",
       "0  {'neg': 0.088, 'neu': 0.669, 'pos': 0.243, 'co...  \n",
       "1  {'neg': 0.018, 'neu': 0.837, 'pos': 0.145, 'co...  \n",
       "2  {'neg': 0.04, 'neu': 0.692, 'pos': 0.268, 'com...  \n",
       "3  {'neg': 0.09, 'neu': 0.615, 'pos': 0.295, 'com...  \n",
       "4  {'neg': 0.0, 'neu': 0.746, 'pos': 0.254, 'comp...  "
      ]
     },
     "execution_count": 11,
     "metadata": {},
     "output_type": "execute_result"
    }
   ],
   "source": [
    "df.head()"
   ]
  },
  {
   "cell_type": "markdown",
   "id": "86955a43",
   "metadata": {
    "papermill": {
     "duration": 0.008629,
     "end_time": "2023-03-07T10:31:30.794251",
     "exception": false,
     "start_time": "2023-03-07T10:31:30.785622",
     "status": "completed"
    },
    "tags": []
   },
   "source": [
    "# add compound score column"
   ]
  },
  {
   "cell_type": "code",
   "execution_count": 12,
   "id": "d0547d46",
   "metadata": {
    "execution": {
     "iopub.execute_input": "2023-03-07T10:31:30.814094Z",
     "iopub.status.busy": "2023-03-07T10:31:30.813695Z",
     "iopub.status.idle": "2023-03-07T10:31:30.824483Z",
     "shell.execute_reply": "2023-03-07T10:31:30.823155Z"
    },
    "papermill": {
     "duration": 0.023767,
     "end_time": "2023-03-07T10:31:30.827041",
     "exception": false,
     "start_time": "2023-03-07T10:31:30.803274",
     "status": "completed"
    },
    "tags": []
   },
   "outputs": [],
   "source": [
    "df['compound']=df['scores'].apply(lambda d:d['compound'])"
   ]
  },
  {
   "cell_type": "code",
   "execution_count": 13,
   "id": "abf3f65b",
   "metadata": {
    "execution": {
     "iopub.execute_input": "2023-03-07T10:31:30.846957Z",
     "iopub.status.busy": "2023-03-07T10:31:30.846549Z",
     "iopub.status.idle": "2023-03-07T10:31:30.861277Z",
     "shell.execute_reply": "2023-03-07T10:31:30.860091Z"
    },
    "papermill": {
     "duration": 0.027802,
     "end_time": "2023-03-07T10:31:30.863824",
     "exception": false,
     "start_time": "2023-03-07T10:31:30.836022",
     "status": "completed"
    },
    "tags": []
   },
   "outputs": [
    {
     "data": {
      "text/html": [
       "<div>\n",
       "<style scoped>\n",
       "    .dataframe tbody tr th:only-of-type {\n",
       "        vertical-align: middle;\n",
       "    }\n",
       "\n",
       "    .dataframe tbody tr th {\n",
       "        vertical-align: top;\n",
       "    }\n",
       "\n",
       "    .dataframe thead th {\n",
       "        text-align: right;\n",
       "    }\n",
       "</style>\n",
       "<table border=\"1\" class=\"dataframe\">\n",
       "  <thead>\n",
       "    <tr style=\"text-align: right;\">\n",
       "      <th></th>\n",
       "      <th>label</th>\n",
       "      <th>review</th>\n",
       "      <th>scores</th>\n",
       "      <th>compound</th>\n",
       "    </tr>\n",
       "  </thead>\n",
       "  <tbody>\n",
       "    <tr>\n",
       "      <th>0</th>\n",
       "      <td>pos</td>\n",
       "      <td>Stuning even for the non-gamer: This sound tra...</td>\n",
       "      <td>{'neg': 0.088, 'neu': 0.669, 'pos': 0.243, 'co...</td>\n",
       "      <td>0.9454</td>\n",
       "    </tr>\n",
       "    <tr>\n",
       "      <th>1</th>\n",
       "      <td>pos</td>\n",
       "      <td>The best soundtrack ever to anything.: I'm rea...</td>\n",
       "      <td>{'neg': 0.018, 'neu': 0.837, 'pos': 0.145, 'co...</td>\n",
       "      <td>0.8957</td>\n",
       "    </tr>\n",
       "    <tr>\n",
       "      <th>2</th>\n",
       "      <td>pos</td>\n",
       "      <td>Amazing!: This soundtrack is my favorite music...</td>\n",
       "      <td>{'neg': 0.04, 'neu': 0.692, 'pos': 0.268, 'com...</td>\n",
       "      <td>0.9858</td>\n",
       "    </tr>\n",
       "    <tr>\n",
       "      <th>3</th>\n",
       "      <td>pos</td>\n",
       "      <td>Excellent Soundtrack: I truly like this soundt...</td>\n",
       "      <td>{'neg': 0.09, 'neu': 0.615, 'pos': 0.295, 'com...</td>\n",
       "      <td>0.9814</td>\n",
       "    </tr>\n",
       "    <tr>\n",
       "      <th>4</th>\n",
       "      <td>pos</td>\n",
       "      <td>Remember, Pull Your Jaw Off The Floor After He...</td>\n",
       "      <td>{'neg': 0.0, 'neu': 0.746, 'pos': 0.254, 'comp...</td>\n",
       "      <td>0.9781</td>\n",
       "    </tr>\n",
       "  </tbody>\n",
       "</table>\n",
       "</div>"
      ],
      "text/plain": [
       "  label                                             review  \\\n",
       "0   pos  Stuning even for the non-gamer: This sound tra...   \n",
       "1   pos  The best soundtrack ever to anything.: I'm rea...   \n",
       "2   pos  Amazing!: This soundtrack is my favorite music...   \n",
       "3   pos  Excellent Soundtrack: I truly like this soundt...   \n",
       "4   pos  Remember, Pull Your Jaw Off The Floor After He...   \n",
       "\n",
       "                                              scores  compound  \n",
       "0  {'neg': 0.088, 'neu': 0.669, 'pos': 0.243, 'co...    0.9454  \n",
       "1  {'neg': 0.018, 'neu': 0.837, 'pos': 0.145, 'co...    0.8957  \n",
       "2  {'neg': 0.04, 'neu': 0.692, 'pos': 0.268, 'com...    0.9858  \n",
       "3  {'neg': 0.09, 'neu': 0.615, 'pos': 0.295, 'com...    0.9814  \n",
       "4  {'neg': 0.0, 'neu': 0.746, 'pos': 0.254, 'comp...    0.9781  "
      ]
     },
     "execution_count": 13,
     "metadata": {},
     "output_type": "execute_result"
    }
   ],
   "source": [
    "df.head()"
   ]
  },
  {
   "cell_type": "code",
   "execution_count": 14,
   "id": "182a6954",
   "metadata": {
    "execution": {
     "iopub.execute_input": "2023-03-07T10:31:30.883926Z",
     "iopub.status.busy": "2023-03-07T10:31:30.883528Z",
     "iopub.status.idle": "2023-03-07T10:31:30.898727Z",
     "shell.execute_reply": "2023-03-07T10:31:30.897431Z"
    },
    "papermill": {
     "duration": 0.028268,
     "end_time": "2023-03-07T10:31:30.901178",
     "exception": false,
     "start_time": "2023-03-07T10:31:30.872910",
     "status": "completed"
    },
    "tags": []
   },
   "outputs": [
    {
     "data": {
      "text/html": [
       "<div>\n",
       "<style scoped>\n",
       "    .dataframe tbody tr th:only-of-type {\n",
       "        vertical-align: middle;\n",
       "    }\n",
       "\n",
       "    .dataframe tbody tr th {\n",
       "        vertical-align: top;\n",
       "    }\n",
       "\n",
       "    .dataframe thead th {\n",
       "        text-align: right;\n",
       "    }\n",
       "</style>\n",
       "<table border=\"1\" class=\"dataframe\">\n",
       "  <thead>\n",
       "    <tr style=\"text-align: right;\">\n",
       "      <th></th>\n",
       "      <th>label</th>\n",
       "      <th>review</th>\n",
       "      <th>scores</th>\n",
       "      <th>compound</th>\n",
       "    </tr>\n",
       "  </thead>\n",
       "  <tbody>\n",
       "    <tr>\n",
       "      <th>9995</th>\n",
       "      <td>pos</td>\n",
       "      <td>A revelation of life in small town America in ...</td>\n",
       "      <td>{'neg': 0.017, 'neu': 0.846, 'pos': 0.136, 'co...</td>\n",
       "      <td>0.9610</td>\n",
       "    </tr>\n",
       "    <tr>\n",
       "      <th>9996</th>\n",
       "      <td>pos</td>\n",
       "      <td>Great biography of a very interesting journali...</td>\n",
       "      <td>{'neg': 0.0, 'neu': 0.868, 'pos': 0.132, 'comp...</td>\n",
       "      <td>0.9544</td>\n",
       "    </tr>\n",
       "    <tr>\n",
       "      <th>9997</th>\n",
       "      <td>neg</td>\n",
       "      <td>Interesting Subject; Poor Presentation: You'd ...</td>\n",
       "      <td>{'neg': 0.096, 'neu': 0.768, 'pos': 0.137, 'co...</td>\n",
       "      <td>0.7074</td>\n",
       "    </tr>\n",
       "    <tr>\n",
       "      <th>9998</th>\n",
       "      <td>neg</td>\n",
       "      <td>Don't buy: The box looked used and it is obvio...</td>\n",
       "      <td>{'neg': 0.091, 'neu': 0.909, 'pos': 0.0, 'comp...</td>\n",
       "      <td>-0.3595</td>\n",
       "    </tr>\n",
       "    <tr>\n",
       "      <th>9999</th>\n",
       "      <td>pos</td>\n",
       "      <td>Beautiful Pen and Fast Delivery.: The pen was ...</td>\n",
       "      <td>{'neg': 0.028, 'neu': 0.811, 'pos': 0.161, 'co...</td>\n",
       "      <td>0.9107</td>\n",
       "    </tr>\n",
       "  </tbody>\n",
       "</table>\n",
       "</div>"
      ],
      "text/plain": [
       "     label                                             review  \\\n",
       "9995   pos  A revelation of life in small town America in ...   \n",
       "9996   pos  Great biography of a very interesting journali...   \n",
       "9997   neg  Interesting Subject; Poor Presentation: You'd ...   \n",
       "9998   neg  Don't buy: The box looked used and it is obvio...   \n",
       "9999   pos  Beautiful Pen and Fast Delivery.: The pen was ...   \n",
       "\n",
       "                                                 scores  compound  \n",
       "9995  {'neg': 0.017, 'neu': 0.846, 'pos': 0.136, 'co...    0.9610  \n",
       "9996  {'neg': 0.0, 'neu': 0.868, 'pos': 0.132, 'comp...    0.9544  \n",
       "9997  {'neg': 0.096, 'neu': 0.768, 'pos': 0.137, 'co...    0.7074  \n",
       "9998  {'neg': 0.091, 'neu': 0.909, 'pos': 0.0, 'comp...   -0.3595  \n",
       "9999  {'neg': 0.028, 'neu': 0.811, 'pos': 0.161, 'co...    0.9107  "
      ]
     },
     "execution_count": 14,
     "metadata": {},
     "output_type": "execute_result"
    }
   ],
   "source": [
    "df.tail()"
   ]
  },
  {
   "cell_type": "code",
   "execution_count": 15,
   "id": "bae0b1a2",
   "metadata": {
    "execution": {
     "iopub.execute_input": "2023-03-07T10:31:30.921899Z",
     "iopub.status.busy": "2023-03-07T10:31:30.921506Z",
     "iopub.status.idle": "2023-03-07T10:31:30.931162Z",
     "shell.execute_reply": "2023-03-07T10:31:30.930255Z"
    },
    "papermill": {
     "duration": 0.0228,
     "end_time": "2023-03-07T10:31:30.933532",
     "exception": false,
     "start_time": "2023-03-07T10:31:30.910732",
     "status": "completed"
    },
    "tags": []
   },
   "outputs": [
    {
     "data": {
      "text/plain": [
       "{'neg': 0.096, 'neu': 0.768, 'pos': 0.137, 'compound': 0.7074}"
      ]
     },
     "execution_count": 15,
     "metadata": {},
     "output_type": "execute_result"
    }
   ],
   "source": [
    "sid.polarity_scores(df.iloc[9997]['review'])"
   ]
  },
  {
   "cell_type": "code",
   "execution_count": 16,
   "id": "bcb58516",
   "metadata": {
    "execution": {
     "iopub.execute_input": "2023-03-07T10:31:30.955591Z",
     "iopub.status.busy": "2023-03-07T10:31:30.955164Z",
     "iopub.status.idle": "2023-03-07T10:31:30.961707Z",
     "shell.execute_reply": "2023-03-07T10:31:30.960842Z"
    },
    "papermill": {
     "duration": 0.020063,
     "end_time": "2023-03-07T10:31:30.963787",
     "exception": false,
     "start_time": "2023-03-07T10:31:30.943724",
     "status": "completed"
    },
    "tags": []
   },
   "outputs": [
    {
     "data": {
      "text/plain": [
       "\"Interesting Subject; Poor Presentation: You'd be hard-pressed to tell a boring story about about a plucky country newspaper editor who had principles and stuck to 'em. But this author has done it. He says the book is an adaptation of his doctoral thesis. That fits. The book reads like a well-done, fully footnoted college paper, not like a dramatic novel. It strives to identify key historical facts at the expense of the reader's interest. With a modest amount of effort, it could have been reworked as a compelling autobiographical novel bolstered by its remarkable display of features of midwestern life during the first half of the 20th Century.\""
      ]
     },
     "execution_count": 16,
     "metadata": {},
     "output_type": "execute_result"
    }
   ],
   "source": [
    "df.iloc[9997]['review']"
   ]
  },
  {
   "cell_type": "markdown",
   "id": "1d620e12",
   "metadata": {
    "papermill": {
     "duration": 0.009092,
     "end_time": "2023-03-07T10:31:30.982468",
     "exception": false,
     "start_time": "2023-03-07T10:31:30.973376",
     "status": "completed"
    },
    "tags": []
   },
   "source": [
    "# add polarity column we make it by VADER"
   ]
  },
  {
   "cell_type": "code",
   "execution_count": 17,
   "id": "197ae9aa",
   "metadata": {
    "execution": {
     "iopub.execute_input": "2023-03-07T10:31:31.004067Z",
     "iopub.status.busy": "2023-03-07T10:31:31.003595Z",
     "iopub.status.idle": "2023-03-07T10:31:31.013801Z",
     "shell.execute_reply": "2023-03-07T10:31:31.012361Z"
    },
    "papermill": {
     "duration": 0.024804,
     "end_time": "2023-03-07T10:31:31.016726",
     "exception": false,
     "start_time": "2023-03-07T10:31:30.991922",
     "status": "completed"
    },
    "tags": []
   },
   "outputs": [],
   "source": [
    "df['comp_score']=df['compound'].apply(lambda score: 'pos' if score>=0 else 'neg')"
   ]
  },
  {
   "cell_type": "code",
   "execution_count": 18,
   "id": "1afbc535",
   "metadata": {
    "execution": {
     "iopub.execute_input": "2023-03-07T10:31:31.038413Z",
     "iopub.status.busy": "2023-03-07T10:31:31.037993Z",
     "iopub.status.idle": "2023-03-07T10:31:31.054871Z",
     "shell.execute_reply": "2023-03-07T10:31:31.053581Z"
    },
    "papermill": {
     "duration": 0.030808,
     "end_time": "2023-03-07T10:31:31.057636",
     "exception": false,
     "start_time": "2023-03-07T10:31:31.026828",
     "status": "completed"
    },
    "tags": []
   },
   "outputs": [
    {
     "data": {
      "text/html": [
       "<div>\n",
       "<style scoped>\n",
       "    .dataframe tbody tr th:only-of-type {\n",
       "        vertical-align: middle;\n",
       "    }\n",
       "\n",
       "    .dataframe tbody tr th {\n",
       "        vertical-align: top;\n",
       "    }\n",
       "\n",
       "    .dataframe thead th {\n",
       "        text-align: right;\n",
       "    }\n",
       "</style>\n",
       "<table border=\"1\" class=\"dataframe\">\n",
       "  <thead>\n",
       "    <tr style=\"text-align: right;\">\n",
       "      <th></th>\n",
       "      <th>label</th>\n",
       "      <th>review</th>\n",
       "      <th>scores</th>\n",
       "      <th>compound</th>\n",
       "      <th>comp_score</th>\n",
       "    </tr>\n",
       "  </thead>\n",
       "  <tbody>\n",
       "    <tr>\n",
       "      <th>0</th>\n",
       "      <td>pos</td>\n",
       "      <td>Stuning even for the non-gamer: This sound tra...</td>\n",
       "      <td>{'neg': 0.088, 'neu': 0.669, 'pos': 0.243, 'co...</td>\n",
       "      <td>0.9454</td>\n",
       "      <td>pos</td>\n",
       "    </tr>\n",
       "    <tr>\n",
       "      <th>1</th>\n",
       "      <td>pos</td>\n",
       "      <td>The best soundtrack ever to anything.: I'm rea...</td>\n",
       "      <td>{'neg': 0.018, 'neu': 0.837, 'pos': 0.145, 'co...</td>\n",
       "      <td>0.8957</td>\n",
       "      <td>pos</td>\n",
       "    </tr>\n",
       "    <tr>\n",
       "      <th>2</th>\n",
       "      <td>pos</td>\n",
       "      <td>Amazing!: This soundtrack is my favorite music...</td>\n",
       "      <td>{'neg': 0.04, 'neu': 0.692, 'pos': 0.268, 'com...</td>\n",
       "      <td>0.9858</td>\n",
       "      <td>pos</td>\n",
       "    </tr>\n",
       "    <tr>\n",
       "      <th>3</th>\n",
       "      <td>pos</td>\n",
       "      <td>Excellent Soundtrack: I truly like this soundt...</td>\n",
       "      <td>{'neg': 0.09, 'neu': 0.615, 'pos': 0.295, 'com...</td>\n",
       "      <td>0.9814</td>\n",
       "      <td>pos</td>\n",
       "    </tr>\n",
       "    <tr>\n",
       "      <th>4</th>\n",
       "      <td>pos</td>\n",
       "      <td>Remember, Pull Your Jaw Off The Floor After He...</td>\n",
       "      <td>{'neg': 0.0, 'neu': 0.746, 'pos': 0.254, 'comp...</td>\n",
       "      <td>0.9781</td>\n",
       "      <td>pos</td>\n",
       "    </tr>\n",
       "  </tbody>\n",
       "</table>\n",
       "</div>"
      ],
      "text/plain": [
       "  label                                             review  \\\n",
       "0   pos  Stuning even for the non-gamer: This sound tra...   \n",
       "1   pos  The best soundtrack ever to anything.: I'm rea...   \n",
       "2   pos  Amazing!: This soundtrack is my favorite music...   \n",
       "3   pos  Excellent Soundtrack: I truly like this soundt...   \n",
       "4   pos  Remember, Pull Your Jaw Off The Floor After He...   \n",
       "\n",
       "                                              scores  compound comp_score  \n",
       "0  {'neg': 0.088, 'neu': 0.669, 'pos': 0.243, 'co...    0.9454        pos  \n",
       "1  {'neg': 0.018, 'neu': 0.837, 'pos': 0.145, 'co...    0.8957        pos  \n",
       "2  {'neg': 0.04, 'neu': 0.692, 'pos': 0.268, 'com...    0.9858        pos  \n",
       "3  {'neg': 0.09, 'neu': 0.615, 'pos': 0.295, 'com...    0.9814        pos  \n",
       "4  {'neg': 0.0, 'neu': 0.746, 'pos': 0.254, 'comp...    0.9781        pos  "
      ]
     },
     "execution_count": 18,
     "metadata": {},
     "output_type": "execute_result"
    }
   ],
   "source": [
    "df.head()"
   ]
  },
  {
   "cell_type": "markdown",
   "id": "8ea4b91b",
   "metadata": {
    "papermill": {
     "duration": 0.009383,
     "end_time": "2023-03-07T10:31:31.077036",
     "exception": false,
     "start_time": "2023-03-07T10:31:31.067653",
     "status": "completed"
    },
    "tags": []
   },
   "source": [
    "# comparing accuracy between data label and VADER score"
   ]
  },
  {
   "cell_type": "code",
   "execution_count": 19,
   "id": "7492db31",
   "metadata": {
    "execution": {
     "iopub.execute_input": "2023-03-07T10:31:31.099090Z",
     "iopub.status.busy": "2023-03-07T10:31:31.098183Z",
     "iopub.status.idle": "2023-03-07T10:31:31.103845Z",
     "shell.execute_reply": "2023-03-07T10:31:31.102548Z"
    },
    "papermill": {
     "duration": 0.019674,
     "end_time": "2023-03-07T10:31:31.106474",
     "exception": false,
     "start_time": "2023-03-07T10:31:31.086800",
     "status": "completed"
    },
    "tags": []
   },
   "outputs": [],
   "source": [
    "from sklearn.metrics import accuracy_score,classification_report,confusion_matrix"
   ]
  },
  {
   "cell_type": "code",
   "execution_count": 20,
   "id": "73c81d9c",
   "metadata": {
    "execution": {
     "iopub.execute_input": "2023-03-07T10:31:31.128008Z",
     "iopub.status.busy": "2023-03-07T10:31:31.127628Z",
     "iopub.status.idle": "2023-03-07T10:31:31.154536Z",
     "shell.execute_reply": "2023-03-07T10:31:31.153192Z"
    },
    "papermill": {
     "duration": 0.04066,
     "end_time": "2023-03-07T10:31:31.157072",
     "exception": false,
     "start_time": "2023-03-07T10:31:31.116412",
     "status": "completed"
    },
    "tags": []
   },
   "outputs": [
    {
     "data": {
      "text/plain": [
       "0.7007"
      ]
     },
     "execution_count": 20,
     "metadata": {},
     "output_type": "execute_result"
    }
   ],
   "source": [
    "accuracy_score(df['label'],df['comp_score'])"
   ]
  },
  {
   "cell_type": "code",
   "execution_count": 21,
   "id": "9f6148ed",
   "metadata": {
    "execution": {
     "iopub.execute_input": "2023-03-07T10:31:31.178867Z",
     "iopub.status.busy": "2023-03-07T10:31:31.178481Z",
     "iopub.status.idle": "2023-03-07T10:31:31.503188Z",
     "shell.execute_reply": "2023-03-07T10:31:31.501421Z"
    },
    "papermill": {
     "duration": 0.340057,
     "end_time": "2023-03-07T10:31:31.507129",
     "exception": false,
     "start_time": "2023-03-07T10:31:31.167072",
     "status": "completed"
    },
    "tags": []
   },
   "outputs": [
    {
     "name": "stdout",
     "output_type": "stream",
     "text": [
      "              precision    recall  f1-score   support\n",
      "\n",
      "         neg       0.85      0.50      0.63      5097\n",
      "         pos       0.64      0.91      0.75      4903\n",
      "\n",
      "    accuracy                           0.70     10000\n",
      "   macro avg       0.74      0.70      0.69     10000\n",
      "weighted avg       0.75      0.70      0.69     10000\n",
      "\n"
     ]
    }
   ],
   "source": [
    "print(classification_report(df['label'],df['comp_score']))"
   ]
  },
  {
   "cell_type": "code",
   "execution_count": 22,
   "id": "b6947ae7",
   "metadata": {
    "execution": {
     "iopub.execute_input": "2023-03-07T10:31:31.529233Z",
     "iopub.status.busy": "2023-03-07T10:31:31.528820Z",
     "iopub.status.idle": "2023-03-07T10:31:31.579191Z",
     "shell.execute_reply": "2023-03-07T10:31:31.577561Z"
    },
    "papermill": {
     "duration": 0.064656,
     "end_time": "2023-03-07T10:31:31.582176",
     "exception": false,
     "start_time": "2023-03-07T10:31:31.517520",
     "status": "completed"
    },
    "tags": []
   },
   "outputs": [
    {
     "name": "stdout",
     "output_type": "stream",
     "text": [
      "[[2540 2557]\n",
      " [ 436 4467]]\n"
     ]
    }
   ],
   "source": [
    "print(confusion_matrix(df['label'],df['comp_score']))"
   ]
  },
  {
   "cell_type": "code",
   "execution_count": 23,
   "id": "2db5e8e7",
   "metadata": {
    "execution": {
     "iopub.execute_input": "2023-03-07T10:31:31.605646Z",
     "iopub.status.busy": "2023-03-07T10:31:31.605148Z",
     "iopub.status.idle": "2023-03-07T10:31:32.294941Z",
     "shell.execute_reply": "2023-03-07T10:31:32.293567Z"
    },
    "papermill": {
     "duration": 0.705638,
     "end_time": "2023-03-07T10:31:32.298093",
     "exception": false,
     "start_time": "2023-03-07T10:31:31.592455",
     "status": "completed"
    },
    "tags": []
   },
   "outputs": [
    {
     "name": "stdout",
     "output_type": "stream",
     "text": [
      "              precision    recall  f1-score   support\n",
      "\n",
      "         neg       0.85      0.50      0.63      5097\n",
      "         pos       0.64      0.91      0.75      4903\n",
      "\n",
      "    accuracy                           0.70     10000\n",
      "   macro avg       0.74      0.70      0.69     10000\n",
      "weighted avg       0.75      0.70      0.69     10000\n",
      "\n"
     ]
    },
    {
     "data": {
      "image/png": "[encoded data removed]",
      "text/plain": [
       "<Figure size 640x480 with 2 Axes>"
      ]
     },
     "metadata": {},
     "output_type": "display_data"
    }
   ],
   "source": [
    "from sklearn.metrics import ConfusionMatrixDisplay\n",
    "disp=ConfusionMatrixDisplay(confusion_matrix(df['label'],df['comp_score']))\n",
    "disp=disp.plot()\n",
    "print(classification_report(df['label'],df['comp_score']))"
   ]
  },
  {
   "cell_type": "markdown",
   "id": "53be5f76",
   "metadata": {
    "papermill": {
     "duration": 0.011101,
     "end_time": "2023-03-07T10:31:32.319904",
     "exception": false,
     "start_time": "2023-03-07T10:31:32.308803",
     "status": "completed"
    },
    "tags": []
   },
   "source": [
    "# as we see the VADER has aproblem with negative reviews but overall accuracy is acceptable"
   ]
  }
 ],
 "metadata": {
  "kernelspec": {
   "display_name": "Python 3",
   "language": "python",
   "name": "python3"
  },
  "language_info": {
   "codemirror_mode": {
    "name": "ipython",
    "version": 3
   },
   "file_extension": ".py",
   "mimetype": "text/x-python",
   "name": "python",
   "nbconvert_exporter": "python",
   "pygments_lexer": "ipython3",
   "version": "3.7.12"
  },
  "papermill": {
   "default_parameters": {},
   "duration": 27.049208,
   "end_time": "2023-03-07T10:31:33.156396",
   "environment_variables": {},
   "exception": null,
   "input_path": "__notebook__.ipynb",
   "output_path": "__notebook__.ipynb",
   "parameters": {},
   "start_time": "2023-03-07T10:31:06.107188",
   "version": "2.4.0"
  }
 },
 "nbformat": 4,
 "nbformat_minor": 5
}
